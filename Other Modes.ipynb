{
 "cells": [
  {
   "cell_type": "markdown",
   "metadata": {},
   "source": [
    "B25\n",
    "B26\n",
    "B38\n",
    "B41\n",
    "B45\n",
    "B52\n",
    "B54\n",
    "B57\n",
    "B61\n",
    "B62\n",
    "B63\n",
    "B67\n",
    "B103\n",
    "\n",
    "http://web.mta.info/nyct/maps/busbkln.pdf"
   ]
  },
  {
   "cell_type": "markdown",
   "metadata": {},
   "source": [
    "https://member.citibikenyc.com/map/\n",
    "    \n",
    "4-5 citibike stations servicing metrotech, jay st"
   ]
  },
  {
   "cell_type": "markdown",
   "metadata": {},
   "source": [
    "LIRR at Atlantic Avenue"
   ]
  },
  {
   "cell_type": "code",
   "execution_count": 1,
   "metadata": {
    "collapsed": true
   },
   "outputs": [],
   "source": [
    "buses = {\n",
    "    25: 10603,\n",
    "    26: 10290,\n",
    "    38: 20222,\n",
    "    41: 30701,\n",
    "    45: 6745,\n",
    "    52: 12523,\n",
    "    54: 11501,\n",
    "    57: 7054,\n",
    "    61: 10433,\n",
    "    62: 9587,\n",
    "    63: 12187,\n",
    "    67: 4554,\n",
    "    103: 13788\n",
    "}"
   ]
  },
  {
   "cell_type": "code",
   "execution_count": 3,
   "metadata": {
    "collapsed": false
   },
   "outputs": [
    {
     "name": "stdout",
     "output_type": "stream",
     "text": [
      "160188\n"
     ]
    }
   ],
   "source": [
    "total = 0\n",
    "for k,v in buses.iteritems():\n",
    "    total += v\n",
    "    \n",
    "print total"
   ]
  },
  {
   "cell_type": "code",
   "execution_count": 4,
   "metadata": {
    "collapsed": false
   },
   "outputs": [
    {
     "name": "stdout",
     "output_type": "stream",
     "text": [
      "{67: 0.028429095812420407, 25: 0.06619097560366569, 26: 0.06423702149973781, 38: 0.12623916897645268, 103: 0.0860738632107274, 41: 0.19165605413638975, 45: 0.0421067745399156, 52: 0.07817689215172173, 54: 0.0717968886558294, 57: 0.044035757984368366, 61: 0.06512972257597323, 62: 0.05984842809698604, 63: 0.07607935675581193}\n"
     ]
    }
   ],
   "source": [
    "for k in buses:\n",
    "    buses[k] = 1.*buses[k]/total\n",
    "    \n",
    "print buses"
   ]
  },
  {
   "cell_type": "code",
   "execution_count": 5,
   "metadata": {
    "collapsed": false
   },
   "outputs": [
    {
     "name": "stdout",
     "output_type": "stream",
     "text": [
      "1.0\n"
     ]
    }
   ],
   "source": [
    "total = 0\n",
    "for k,v in buses.iteritems():\n",
    "    total += v\n",
    "    \n",
    "print total"
   ]
  },
  {
   "cell_type": "code",
   "execution_count": 6,
   "metadata": {
    "collapsed": false
   },
   "outputs": [
    {
     "name": "stdout",
     "output_type": "stream",
     "text": [
      "67 AM =  5.26312012795\n",
      "67 PM =  7.85916793003\n",
      "25 AM =  12.2540322171\n",
      "25 PM =  18.2983657361\n",
      "26 AM =  11.8922938332\n",
      "26 PM =  17.758198946\n",
      "38 AM =  23.3708421668\n",
      "38 PM =  34.8985713397\n",
      "103 AM =  15.9349803083\n",
      "103 PM =  23.7949511241\n",
      "41 AM =  35.4815658867\n",
      "41 PM =  52.9829412868\n",
      "45 AM =  7.79528881489\n",
      "45 PM =  11.6403354607\n",
      "52 AM =  14.473002495\n",
      "52 PM =  21.6118489213\n",
      "54 AM =  13.2918631075\n",
      "54 PM =  19.8481094342\n",
      "57 AM =  8.152404344\n",
      "57 PM =  12.1735991608\n",
      "61 AM =  12.0575608904\n",
      "61 PM =  18.0049844124\n",
      "62 AM =  11.0798271117\n",
      "62 PM =  16.5449808839\n",
      "63 AM =  14.0846826964\n",
      "63 PM =  21.0319893639\n"
     ]
    }
   ],
   "source": [
    "am = 185.131464\n",
    "pm = 276.448044\n",
    "\n",
    "for k,v in buses.iteritems():\n",
    "    print k, \"AM = \", v*am\n",
    "    print k, \"PM = \", v*pm"
   ]
  },
  {
   "cell_type": "code",
   "execution_count": null,
   "metadata": {
    "collapsed": true
   },
   "outputs": [],
   "source": []
  }
 ],
 "metadata": {
  "kernelspec": {
   "display_name": "Python 2",
   "language": "python",
   "name": "python2"
  },
  "language_info": {
   "codemirror_mode": {
    "name": "ipython",
    "version": 2
   },
   "file_extension": ".py",
   "mimetype": "text/x-python",
   "name": "python",
   "nbconvert_exporter": "python",
   "pygments_lexer": "ipython2",
   "version": "2.7.10"
  }
 },
 "nbformat": 4,
 "nbformat_minor": 0
}

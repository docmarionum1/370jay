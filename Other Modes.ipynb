{
 "cells": [
  {
   "cell_type": "markdown",
   "metadata": {},
   "source": [
    "B25\n",
    "B26\n",
    "B38\n",
    "B41\n",
    "B45\n",
    "B52\n",
    "B54\n",
    "B57\n",
    "B61\n",
    "B62\n",
    "B63\n",
    "B67\n",
    "B103\n",
    "\n",
    "http://web.mta.info/nyct/maps/busbkln.pdf"
   ]
  },
  {
   "cell_type": "markdown",
   "metadata": {},
   "source": [
    "https://member.citibikenyc.com/map/\n",
    "    \n",
    "4-5 citibike stations servicing metrotech, jay st"
   ]
  },
  {
   "cell_type": "markdown",
   "metadata": {},
   "source": [
    "LIRR at Atlantic Avenue"
   ]
  },
  {
   "cell_type": "code",
   "execution_count": null,
   "metadata": {
    "collapsed": true
   },
   "outputs": [],
   "source": []
  }
 ],
 "metadata": {
  "kernelspec": {
   "display_name": "Python 2",
   "language": "python",
   "name": "python2"
  },
  "language_info": {
   "codemirror_mode": {
    "name": "ipython",
    "version": 2
   },
   "file_extension": ".py",
   "mimetype": "text/x-python",
   "name": "python",
   "nbconvert_exporter": "python",
   "pygments_lexer": "ipython2",
   "version": "2.7.10"
  }
 },
 "nbformat": 4,
 "nbformat_minor": 0
}

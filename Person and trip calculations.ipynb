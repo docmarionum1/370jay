{
 "cells": [
  {
   "cell_type": "code",
   "execution_count": 2,
   "metadata": {
    "collapsed": false
   },
   "outputs": [
    {
     "name": "stdout",
     "output_type": "stream",
     "text": [
      "Populating the interactive namespace from numpy and matplotlib\n"
     ]
    }
   ],
   "source": [
    "%pylab inline"
   ]
  },
  {
   "cell_type": "code",
   "execution_count": 3,
   "metadata": {
    "collapsed": true
   },
   "outputs": [],
   "source": [
    "import numpy as np\n",
    "import pylab as pl\n",
    "pl.style.use('fivethirtyeight')\n",
    "from stackedBarGraph import StackedBarGrapher\n",
    "SBG = StackedBarGrapher()"
   ]
  },
  {
   "cell_type": "code",
   "execution_count": 4,
   "metadata": {
    "collapsed": false
   },
   "outputs": [],
   "source": [
    "# Details from assignment pdf:\n",
    "# Opening 2017\n",
    "# 2.3 people/1000 sf\n",
    "# 460k sf\n",
    "# no onstreet parking\n",
    "# 9am-9pm hours\n",
    "\n",
    "# Source of building contents:\n",
    "# https://www.nyu.edu/content/dam/nyu/govCommunAffairs/documents/nyu-in-nyc/brooklyn/2014-07-29-370-Jay-St-Presentation-Downloadable.pdf\n",
    "# 450k sf above ground space\n",
    "# 3 floors for CUSP (150k sf) (office)\n",
    "# 27k sf retail on first floor\n",
    "# 40k sf incubator (office)\n",
    "# 233k sf left for NYU (mixed classroom office? - 50/50?)\n",
    "# Do we consider cusp as new since it's moving and vacating another location?\n",
    "\n",
    "total = 450\n",
    "retail = 27\n",
    "office_min = 190\n",
    "office_max = 383\n",
    "school_min = 40\n",
    "school_max = 233\n",
    "\n",
    "#Using http://www.nyc.gov/html/oec/downloads/pdf/2014_ceqr_tm/16_Transportation_2014.pdf for trip generation rates\n",
    "\n",
    "times = ['am', 'mid', 'pm']\n",
    "modes = ['subway', 'bus', 'walk', 'auto', 'taxi', 'rail', 'other']\n",
    "\n",
    "trips = {\n",
    "    'office': {\n",
    "        'trips': 18,\n",
    "        'am': {\n",
    "            'trips': .12,\n",
    "            'auto': .06,\n",
    "            'subway': .479,\n",
    "            'bus': .146,\n",
    "            'walk': .084,\n",
    "            'taxi': .03,\n",
    "            'rail': .19,\n",
    "            'other': .011\n",
    "        },\n",
    "        'mid': {\n",
    "            'trips': .15,\n",
    "            'auto': .02,\n",
    "            'subway': .06,\n",
    "            'bus': .06,\n",
    "            'walk': .83,\n",
    "            'taxi': .03,\n",
    "            'rail': 0,\n",
    "            'other': 0\n",
    "        },\n",
    "        'pm': {\n",
    "            'trips': .14,\n",
    "            'auto': .06,\n",
    "            'subway': .479,\n",
    "            'bus': .146,\n",
    "            'walk': .084,\n",
    "            'taxi': .03,\n",
    "            'rail': .19,\n",
    "            'other': .011\n",
    "        }\n",
    "    },\n",
    "    'uni': {\n",
    "        'trips': 26.6,\n",
    "        'am': {\n",
    "            'trips': .16,\n",
    "            'auto': .06,\n",
    "            'subway': .479,\n",
    "            'bus': .146,\n",
    "            'walk': .084,\n",
    "            'taxi': .03,\n",
    "            'rail': .19,\n",
    "            'other': .011\n",
    "        },\n",
    "        'mid': {\n",
    "            'trips': .15,\n",
    "            'auto': .02,\n",
    "            'subway': .06,\n",
    "            'bus': .06,\n",
    "            'walk': .83,\n",
    "            'taxi': .03,\n",
    "            'rail': 0,\n",
    "            'other': 0\n",
    "        },\n",
    "        'pm': {\n",
    "            'trips': .26,\n",
    "            'auto': .06,\n",
    "            'subway': .479,\n",
    "            'bus': .146,\n",
    "            'walk': .084,\n",
    "            'taxi': .03,\n",
    "            'rail': .19,\n",
    "            'other': .011\n",
    "        }\n",
    "    },\n",
    "    'local': {\n",
    "        'trips': 205,\n",
    "        'am': {\n",
    "            'trips': .03,\n",
    "            'auto': .02,\n",
    "            'subway': .06,\n",
    "            'bus': .06,\n",
    "            'walk': .83,\n",
    "            'taxi': .03,\n",
    "            'rail': 0,\n",
    "            'other': 0\n",
    "        },\n",
    "        'mid': {\n",
    "            'trips': .19,\n",
    "            'auto': .02,\n",
    "            'subway': .06,\n",
    "            'bus': .06,\n",
    "            'walk': .83,\n",
    "            'taxi': .03,\n",
    "            'rail': 0,\n",
    "            'other': 0\n",
    "        },\n",
    "        'pm': {\n",
    "            'trips': .10,\n",
    "            'auto': .02,\n",
    "            'subway': .06,\n",
    "            'bus': .06,\n",
    "            'walk': .83,\n",
    "            'taxi': .03,\n",
    "            'rail': 0,\n",
    "            'other': 0\n",
    "        }\n",
    "    },\n",
    "    'dest': {\n",
    "        'trips': 78.2,\n",
    "        'am': {\n",
    "            'trips': .03,\n",
    "            'auto': .09,\n",
    "            'subway': .265,\n",
    "            'bus': .08,\n",
    "            'walk': .505,\n",
    "            'taxi': .04,\n",
    "            'rail': .02,\n",
    "            'other': 0\n",
    "        },\n",
    "        'mid': {\n",
    "            'trips': .09,\n",
    "            'auto': .09,\n",
    "            'subway': .2,\n",
    "            'bus': .08,\n",
    "            'walk': .59,\n",
    "            'taxi': .04,\n",
    "            'rail': 0,\n",
    "            'other': 0\n",
    "        },\n",
    "        'pm': {\n",
    "            'trips': .09,\n",
    "            'auto': .09,\n",
    "            'subway': .265,\n",
    "            'bus': .08,\n",
    "            'walk': .505,\n",
    "            'taxi': .04,\n",
    "            'rail': .02,\n",
    "            'other': 0\n",
    "        }\n",
    "    }\n",
    "}"
   ]
  },
  {
   "cell_type": "code",
   "execution_count": 5,
   "metadata": {
    "collapsed": false
   },
   "outputs": [],
   "source": [
    "generated = []\n",
    "gen_am = []\n",
    "\n",
    "results = {}\n",
    "\n",
    "office = np.arange(office_min, office_max+1)\n",
    "school = total - retail - office\n",
    "local_retail_percent = np.arange(0,1.01,.01)\n",
    "dest_retail_percent = 1 - local_retail_percent\n",
    "\n",
    "for i in range(101):\n",
    "    retailg = local_retail_percent[i]*retail*trips['local']['trips'] + dest_retail_percent[i]*retail*trips['dest']['trips']\n",
    "    generated.append(office*trips['office']['trips'] + school*trips['uni']['trips'] + retailg)\n",
    "    \n",
    "    '''\n",
    "    am =    local_retail_percent[i]*retail*trips['local']['trips']*trips['local']['am']['trips'] + \\\n",
    "            dest_retail_percent[i]*retail*trips['dest']['trips']*trips['dest']['am']['trips'] + \\\n",
    "            office*trips['office']['trips']*trips['office']['am']['trips'] + \\\n",
    "            school*trips['uni']['trips']*trips['uni']['am']['trips']\n",
    "    '''\n",
    "    \n",
    "    for time in times:\n",
    "        results[time] = {}\n",
    "        for mode in modes:\n",
    "            r = local_retail_percent[i]*retail*trips['local']['trips']*trips['local'][time]['trips']*trips['local'][time][mode] + \\\n",
    "            dest_retail_percent[i]*retail*trips['dest']['trips']*trips['dest'][time]['trips']*trips['dest'][time][mode] + \\\n",
    "            office*trips['office']['trips']*trips['office'][time]['trips']*trips['office'][time][mode] + \\\n",
    "            school*trips['uni']['trips']*trips['uni'][time]['trips']*trips['uni'][time][mode]\n",
    "            \n",
    "            results[time][mode] = r\n",
    "    #gen_am.append(am)\n",
    "    \n"
   ]
  },
  {
   "cell_type": "code",
   "execution_count": 6,
   "metadata": {
    "collapsed": false
   },
   "outputs": [
    {
     "data": {
      "text/plain": [
       "<matplotlib.text.Text at 0xa046710>"
      ]
     },
     "execution_count": 6,
     "metadata": {},
     "output_type": "execute_result"
    },
    {
     "data": {
      "image/png": "[encoded data removed]",
      "text/plain": [
       "<matplotlib.figure.Figure at 0x9f4f860>"
      ]
     },
     "metadata": {},
     "output_type": "display_data"
    }
   ],
   "source": [
    "figure, ax = pl.subplots(figsize=(10,10))\n",
    "pl.hist(np.array(generated).flatten(), 20)\n",
    "ax.set_title('Range of Daily Trips Generated (Weekday)')"
   ]
  },
  {
   "cell_type": "code",
   "execution_count": 7,
   "metadata": {
    "collapsed": false
   },
   "outputs": [],
   "source": [
    "#figure, ax = pl.subplots(figsize=(10,10))\n",
    "#pl.hist(np.array(gen_am).flatten(), 20)\n",
    "#ax.set_title('Range of AM Peak Hour Trips (Weekday)')"
   ]
  },
  {
   "cell_type": "code",
   "execution_count": 8,
   "metadata": {
    "collapsed": false
   },
   "outputs": [],
   "source": [
    "#figure, ax = pl.subplots(figsize=(10,10))\n",
    "#pl.hist(np.array(results['am']['auto']).flatten(), 20)\n",
    "#ax.set_title('Range of AM Peak Hour Trips By Car (Weekday)')"
   ]
  },
  {
   "cell_type": "code",
   "execution_count": 9,
   "metadata": {
    "collapsed": false
   },
   "outputs": [],
   "source": [
    "#figure, ax = pl.subplots(figsize=(10,10))\n",
    "#pl.hist(np.array(results['pm']['auto']).flatten(), 20)\n",
    "#ax.set_title('Range of PM Peak Hour Trips By Car (Weekday)')"
   ]
  },
  {
   "cell_type": "code",
   "execution_count": 10,
   "metadata": {
    "collapsed": false
   },
   "outputs": [],
   "source": [
    "#figure, ax = pl.subplots(figsize=(10,10))\n",
    "#pl.hist(np.array(results['mid']['auto']).flatten(), 20)\n",
    "#ax.set_title('Range of Midday Peak Hour Trips By Car (Weekday)')"
   ]
  },
  {
   "cell_type": "markdown",
   "metadata": {},
   "source": [
    "figure, ax = pl.subplots(figsize=(10,10))\n",
    "pl.hist(np.array(results['pm']['subway']).flatten(), 20)\n",
    "ax.set_title('Range of PM Peak Hour Trips By Subway (Weekday)')"
   ]
  },
  {
   "cell_type": "code",
   "execution_count": 11,
   "metadata": {
    "collapsed": false
   },
   "outputs": [
    {
     "data": {
      "text/plain": [
       "584.659536"
      ]
     },
     "execution_count": 11,
     "metadata": {},
     "output_type": "execute_result"
    }
   ],
   "source": [
    "np.mean(results['am']['subway'])"
   ]
  },
  {
   "cell_type": "code",
   "execution_count": 12,
   "metadata": {
    "collapsed": false
   },
   "outputs": [
    {
     "data": {
      "text/plain": [
       "56.225344991052559"
      ]
     },
     "execution_count": 12,
     "metadata": {},
     "output_type": "execute_result"
    }
   ],
   "source": [
    "np.std(results['am']['subway'])"
   ]
  },
  {
   "cell_type": "code",
   "execution_count": 13,
   "metadata": {
    "collapsed": false
   },
   "outputs": [
    {
     "data": {
      "text/plain": [
       "<matplotlib.text.Text at 0xa25fac8>"
      ]
     },
     "execution_count": 13,
     "metadata": {},
     "output_type": "execute_result"
    },
    {
     "data": {
      "image/png": "[encoded data removed]",
      "text/plain": [
       "<matplotlib.figure.Figure at 0xa079908>"
      ]
     },
     "metadata": {},
     "output_type": "display_data"
    }
   ],
   "source": [
    "d_colors = ['#2166ac', '#fee090', '#fdbb84', '#fc8d59', '#e34a33', '#b30000', '#777777']\n",
    "figure, ax = pl.subplots(figsize=(16,16))\n",
    "d = []\n",
    "#for mode in modes:\n",
    "#    d.append([np.mean(results[time][mode]) for time in times])\n",
    "for time in times:\n",
    "    d.append([np.mean(results[time][mode]) for mode in modes])\n",
    "bars = SBG.stackedBarPlot(ax, d, d_colors, xLabels=times)\n",
    "ax.legend(bars, modes, loc='upper left')\n",
    "ax.set_title('Trips Generated by Mode and Time of Day')\n",
    "ax.set_ylabel('Trips Generated')\n",
    "ax.set_xlabel('Time of Day')"
   ]
  },
  {
   "cell_type": "code",
   "execution_count": 14,
   "metadata": {
    "collapsed": false
   },
   "outputs": [
    {
     "name": "stdout",
     "output_type": "stream",
     "text": [
      "am 584.659536\n",
      "mid 142.1901\n",
      "pm 831.230706\n"
     ]
    }
   ],
   "source": [
    "for k in results:\n",
    "    print k, np.mean(results[k]['subway'])"
   ]
  },
  {
   "cell_type": "code",
   "execution_count": 15,
   "metadata": {
    "collapsed": false
   },
   "outputs": [
    {
     "name": "stdout",
     "output_type": "stream",
     "text": [
      "am 1365.834\n",
      "mid 2369.835\n",
      "pm 2219.514\n"
     ]
    }
   ],
   "source": [
    "for time in times:\n",
    "    print time, np.sum([np.mean(results[time][mode]) for mode in modes])"
   ]
  },
  {
   "cell_type": "code",
   "execution_count": null,
   "metadata": {
    "collapsed": true
   },
   "outputs": [],
   "source": []
  }
 ],
 "metadata": {
  "kernelspec": {
   "display_name": "Python 2",
   "language": "python",
   "name": "python2"
  },
  "language_info": {
   "codemirror_mode": {
    "name": "ipython",
    "version": 2
   },
   "file_extension": ".py",
   "mimetype": "text/x-python",
   "name": "python",
   "nbconvert_exporter": "python",
   "pygments_lexer": "ipython2",
   "version": "2.7.10"
  }
 },
 "nbformat": 4,
 "nbformat_minor": 0
}
